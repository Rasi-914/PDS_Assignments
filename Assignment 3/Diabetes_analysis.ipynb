{
 "cells": [
  {
   "cell_type": "code",
   "execution_count": 34,
   "id": "3c940780",
   "metadata": {},
   "outputs": [],
   "source": [
    "import seaborn as sn\n",
    "import numpy as np\n",
    "import pandas as pd\n",
    "import statistics as st\n",
    "import random as rd\n",
    "import matplotlib.pyplot as plt\n",
    "import sklearn as sk"
   ]
  },
  {
   "cell_type": "code",
   "execution_count": 35,
   "id": "9c0aad25",
   "metadata": {},
   "outputs": [],
   "source": [
    "np.random.seed(42)\n",
    "data=pd.read_csv('D:\\\\R_Drive\\\\UMKC\\\\Subjects\\\\Fall_Semester\\\\Priciples_of_Datascience\\\\Assignments\\\\Assignment 3\\\\Clean_data\\\\data_clean.csv')"
   ]
  },
  {
   "cell_type": "code",
   "execution_count": 36,
   "id": "2254cc7b",
   "metadata": {},
   "outputs": [],
   "source": [
    "sample_population=data.sample(n= 25, random_state= 40)"
   ]
  },
  {
   "cell_type": "code",
   "execution_count": 37,
   "id": "9ff53491",
   "metadata": {},
   "outputs": [
    {
     "data": {
      "text/html": [
       "<div>\n",
       "<style scoped>\n",
       "    .dataframe tbody tr th:only-of-type {\n",
       "        vertical-align: middle;\n",
       "    }\n",
       "\n",
       "    .dataframe tbody tr th {\n",
       "        vertical-align: top;\n",
       "    }\n",
       "\n",
       "    .dataframe thead th {\n",
       "        text-align: right;\n",
       "    }\n",
       "</style>\n",
       "<table border=\"1\" class=\"dataframe\">\n",
       "  <thead>\n",
       "    <tr style=\"text-align: right;\">\n",
       "      <th></th>\n",
       "      <th>Unnamed: 0</th>\n",
       "      <th>Pregnancies</th>\n",
       "      <th>Glucose</th>\n",
       "      <th>BloodPressure</th>\n",
       "      <th>SkinThickness</th>\n",
       "      <th>Insulin</th>\n",
       "      <th>BMI</th>\n",
       "      <th>DiabetesPedigreeFunction</th>\n",
       "      <th>Age</th>\n",
       "      <th>Outcome</th>\n",
       "    </tr>\n",
       "  </thead>\n",
       "  <tbody>\n",
       "    <tr>\n",
       "      <th>370</th>\n",
       "      <td>370</td>\n",
       "      <td>3</td>\n",
       "      <td>173</td>\n",
       "      <td>82</td>\n",
       "      <td>48</td>\n",
       "      <td>465</td>\n",
       "      <td>38.4</td>\n",
       "      <td>2.137</td>\n",
       "      <td>25</td>\n",
       "      <td>1</td>\n",
       "    </tr>\n",
       "    <tr>\n",
       "      <th>388</th>\n",
       "      <td>388</td>\n",
       "      <td>5</td>\n",
       "      <td>144</td>\n",
       "      <td>82</td>\n",
       "      <td>26</td>\n",
       "      <td>285</td>\n",
       "      <td>32.0</td>\n",
       "      <td>0.452</td>\n",
       "      <td>58</td>\n",
       "      <td>1</td>\n",
       "    </tr>\n",
       "    <tr>\n",
       "      <th>611</th>\n",
       "      <td>611</td>\n",
       "      <td>3</td>\n",
       "      <td>174</td>\n",
       "      <td>58</td>\n",
       "      <td>22</td>\n",
       "      <td>194</td>\n",
       "      <td>32.9</td>\n",
       "      <td>0.593</td>\n",
       "      <td>36</td>\n",
       "      <td>1</td>\n",
       "    </tr>\n",
       "    <tr>\n",
       "      <th>550</th>\n",
       "      <td>550</td>\n",
       "      <td>1</td>\n",
       "      <td>116</td>\n",
       "      <td>70</td>\n",
       "      <td>28</td>\n",
       "      <td>0</td>\n",
       "      <td>27.4</td>\n",
       "      <td>0.204</td>\n",
       "      <td>21</td>\n",
       "      <td>0</td>\n",
       "    </tr>\n",
       "    <tr>\n",
       "      <th>232</th>\n",
       "      <td>232</td>\n",
       "      <td>1</td>\n",
       "      <td>79</td>\n",
       "      <td>80</td>\n",
       "      <td>25</td>\n",
       "      <td>37</td>\n",
       "      <td>25.4</td>\n",
       "      <td>0.583</td>\n",
       "      <td>22</td>\n",
       "      <td>0</td>\n",
       "    </tr>\n",
       "  </tbody>\n",
       "</table>\n",
       "</div>"
      ],
      "text/plain": [
       "     Unnamed: 0  Pregnancies  Glucose  BloodPressure  SkinThickness  Insulin  \\\n",
       "370         370            3      173             82             48      465   \n",
       "388         388            5      144             82             26      285   \n",
       "611         611            3      174             58             22      194   \n",
       "550         550            1      116             70             28        0   \n",
       "232         232            1       79             80             25       37   \n",
       "\n",
       "      BMI  DiabetesPedigreeFunction  Age  Outcome  \n",
       "370  38.4                     2.137   25        1  \n",
       "388  32.0                     0.452   58        1  \n",
       "611  32.9                     0.593   36        1  \n",
       "550  27.4                     0.204   21        0  \n",
       "232  25.4                     0.583   22        0  "
      ]
     },
     "execution_count": 37,
     "metadata": {},
     "output_type": "execute_result"
    }
   ],
   "source": [
    "sample_population.head()"
   ]
  },
  {
   "cell_type": "code",
   "execution_count": 38,
   "id": "8cf36669",
   "metadata": {},
   "outputs": [
    {
     "name": "stdout",
     "output_type": "stream",
     "text": [
      "121.2\n"
     ]
    }
   ],
   "source": [
    "glucose_mean=st.mean(sample_population.loc[:,\"Glucose\"])\n",
    "print(glucose_mean)"
   ]
  },
  {
   "cell_type": "code",
   "execution_count": 39,
   "id": "b1b594e6",
   "metadata": {},
   "outputs": [
    {
     "name": "stdout",
     "output_type": "stream",
     "text": [
      "184\n"
     ]
    }
   ],
   "source": [
    "glucose_max=max(sample_population.loc[:,\"Glucose\"])\n",
    "print(glucose_max)"
   ]
  },
  {
   "cell_type": "code",
   "execution_count": 40,
   "id": "75c633e5",
   "metadata": {},
   "outputs": [
    {
     "name": "stdout",
     "output_type": "stream",
     "text": [
      "120.89453125\n"
     ]
    }
   ],
   "source": [
    "population_mean=st.mean(data.loc[:,\"Glucose\"])\n",
    "print(population_mean)"
   ]
  },
  {
   "cell_type": "code",
   "execution_count": 41,
   "id": "63fb549a",
   "metadata": {},
   "outputs": [
    {
     "name": "stdout",
     "output_type": "stream",
     "text": [
      "199\n"
     ]
    }
   ],
   "source": [
    "population_max=max(data.loc[:,\"Glucose\"])\n",
    "print(population_max)"
   ]
  },
  {
   "cell_type": "code",
   "execution_count": 57,
   "id": "2e665a24",
   "metadata": {},
   "outputs": [
    {
     "data": {
      "image/png": "[encoded data removed]",
      "text/plain": [
       "<Figure size 432x288 with 1 Axes>"
      ]
     },
     "metadata": {
      "needs_background": "light"
     },
     "output_type": "display_data"
    }
   ],
   "source": [
    "plt.bar(['glucose_mean', 'glucose_max', 'population_mean', 'population_max'],\n",
    "        [glucose_mean,glucose_max, population_mean, population_max],color='pink')\n",
    "plt.ylabel('Glucose values')\n",
    "plt.title('Comparison of Glucose Statistics between Sample and Population')\n",
    "plt.show()"
   ]
  },
  {
   "cell_type": "markdown",
   "id": "a1c148c8",
   "metadata": {},
   "source": [
    "### b) Find the 98th percentile of BMI of your sample and the population and compare the results using charts. "
   ]
  },
  {
   "cell_type": "code",
   "execution_count": 43,
   "id": "3d3e0411",
   "metadata": {},
   "outputs": [],
   "source": [
    "df=pd.DataFrame(data)"
   ]
  },
  {
   "cell_type": "code",
   "execution_count": 44,
   "id": "44aab099",
   "metadata": {},
   "outputs": [],
   "source": [
    "sample_percentile=np.percentile(sample_population['BMI'],98)\n",
    "population_percentile=np.percentile(df['BMI'],98)"
   ]
  },
  {
   "cell_type": "code",
   "execution_count": 45,
   "id": "924e5eb8",
   "metadata": {},
   "outputs": [
    {
     "name": "stdout",
     "output_type": "stream",
     "text": [
      "98th Percentile BMI for Sample: 47.151999999999994\n",
      "98th Percentile BMI for Population: 47.52599999999996\n"
     ]
    }
   ],
   "source": [
    "print(f\"98th Percentile BMI for Sample: {sample_percentile}\")\n",
    "print(f\"98th Percentile BMI for Population: {population_percentile}\")"
   ]
  },
  {
   "cell_type": "code",
   "execution_count": 46,
   "id": "3004b810",
   "metadata": {
    "scrolled": true
   },
   "outputs": [
    {
     "data": {
      "image/png": "[encoded data removed]",
      "text/plain": [
       "<Figure size 432x288 with 1 Axes>"
      ]
     },
     "metadata": {
      "needs_background": "light"
     },
     "output_type": "display_data"
    }
   ],
   "source": [
    "plt.bar(['Sample 98th Percentile', 'Population 98th Percentile'],\n",
    "        [sample_percentile, population_percentile])\n",
    "\n",
    "plt.ylabel('BMI Values')\n",
    "plt.title('Comparison of 98th Percentile BMI between Sample and Population')\n",
    "plt.show()"
   ]
  },
  {
   "cell_type": "markdown",
   "id": "6c8aeca0",
   "metadata": {},
   "source": [
    "### C) Using bootstrap (replace= True), create 500 samples (of 150 observation each) from the population and find the average mean, standard deviation and percentile for BloodPressure and compare this with these statistics from the population for the same variable. Again, you should create charts for this comparison. Report on your findings.  (10 points)  "
   ]
  },
  {
   "cell_type": "code",
   "execution_count": 47,
   "id": "c84321ff",
   "metadata": {},
   "outputs": [],
   "source": [
    "np.random.seed(42)"
   ]
  },
  {
   "cell_type": "code",
   "execution_count": 48,
   "id": "bc003f65",
   "metadata": {},
   "outputs": [],
   "source": [
    "num_samples = 500\n",
    "sample_size = 150"
   ]
  },
  {
   "cell_type": "code",
   "execution_count": 49,
   "id": "69b77e1f",
   "metadata": {},
   "outputs": [],
   "source": [
    "bootstrap_means = np.zeros(num_samples)\n",
    "bootstrap_stds = np.zeros(num_samples)\n",
    "bootstrap_percentiles = np.zeros(num_samples)"
   ]
  },
  {
   "cell_type": "code",
   "execution_count": 50,
   "id": "76362032",
   "metadata": {},
   "outputs": [],
   "source": [
    "for i in range(num_samples):\n",
    "    bootstrap_sample = np.random.choice(df['BloodPressure'], size=sample_size, replace=True)\n",
    "    bootstrap_means[i] = np.mean(bootstrap_sample)\n",
    "    bootstrap_stds[i] = np.std(bootstrap_sample)\n",
    "    bootstrap_percentiles[i] = np.percentile(bootstrap_sample,95)"
   ]
  },
  {
   "cell_type": "code",
   "execution_count": 51,
   "id": "6333b368",
   "metadata": {},
   "outputs": [],
   "source": [
    "population_mean = np.mean(df['BloodPressure'])\n",
    "population_std = np.std(df['BloodPressure'])\n",
    "population_percentile = np.percentile(df['BloodPressure'], 95)"
   ]
  },
  {
   "cell_type": "code",
   "execution_count": 52,
   "id": "f1011c66",
   "metadata": {},
   "outputs": [
    {
     "name": "stdout",
     "output_type": "stream",
     "text": [
      "Population Mean BloodPressure: 69.10546875\n",
      "Population Standard Deviation BloodPressure: 19.343201628981696\n",
      "Population 95th Percentile BloodPressure: 90.0\n"
     ]
    }
   ],
   "source": [
    "print(f\"Population Mean BloodPressure: {population_mean}\")\n",
    "print(f\"Population Standard Deviation BloodPressure: {population_std}\")\n",
    "print(f\"Population 95th Percentile BloodPressure: {population_percentile}\")"
   ]
  },
  {
   "cell_type": "code",
   "execution_count": 53,
   "id": "8a190e52",
   "metadata": {},
   "outputs": [
    {
     "data": {
      "text/plain": [
       "Text(0.5, 1.0, 'Bootstrap Means vs Population Mean')"
      ]
     },
     "execution_count": 53,
     "metadata": {},
     "output_type": "execute_result"
    },
    {
     "data": {
      "image/png": "[encoded data removed]",
      "text/plain": [
       "<Figure size 864x432 with 1 Axes>"
      ]
     },
     "metadata": {
      "needs_background": "light"
     },
     "output_type": "display_data"
    }
   ],
   "source": [
    "plt.figure(figsize=(12, 6))\n",
    "\n",
    "plt.hist(bootstrap_means, bins=30, color='pink', alpha=0.7)\n",
    "plt.axvline(population_mean, color='green', linewidth=2)\n",
    "plt.title('Bootstrap Means vs Population Mean')\n"
   ]
  },
  {
   "cell_type": "code",
   "execution_count": 54,
   "id": "039f5ad4",
   "metadata": {},
   "outputs": [
    {
     "data": {
      "text/plain": [
       "Text(0.5, 1.0, 'Bootstrap Standard Deviations vs Population Standard Deviation')"
      ]
     },
     "execution_count": 54,
     "metadata": {},
     "output_type": "execute_result"
    },
    {
     "data": {
      "image/png": "[encoded data removed]",
      "text/plain": [
       "<Figure size 432x288 with 1 Axes>"
      ]
     },
     "metadata": {
      "needs_background": "light"
     },
     "output_type": "display_data"
    }
   ],
   "source": [
    "\n",
    "plt.hist(bootstrap_stds, bins=30, color='orange', alpha=0.7)\n",
    "plt.axvline(population_std, color='green', linewidth=2)\n",
    "plt.title('Bootstrap Standard Deviations vs Population Standard Deviation')"
   ]
  },
  {
   "cell_type": "code",
   "execution_count": 56,
   "id": "0209467d",
   "metadata": {},
   "outputs": [
    {
     "data": {
      "text/plain": [
       "Text(0.5, 1.0, 'Bootstrap 95th Percentiles vs Population 95th Percentile')"
      ]
     },
     "execution_count": 56,
     "metadata": {},
     "output_type": "execute_result"
    },
    {
     "data": {
      "image/png": "[encoded data removed]",
      "text/plain": [
       "<Figure size 432x288 with 1 Axes>"
      ]
     },
     "metadata": {
      "needs_background": "light"
     },
     "output_type": "display_data"
    }
   ],
   "source": [
    "\n",
    "plt.hist(bootstrap_percentiles, bins=30, color='skyblue', alpha=0.7)\n",
    "plt.axvline(population_percentile, color='green', linestyle='dashed', linewidth=2)\n",
    "plt.title('Bootstrap 95th Percentiles vs Population 95th Percentile')"
   ]
  },
  {
   "cell_type": "code",
   "execution_count": null,
   "id": "206657bd",
   "metadata": {},
   "outputs": [],
   "source": []
  },
  {
   "cell_type": "code",
   "execution_count": null,
   "id": "b29afbbe",
   "metadata": {},
   "outputs": [],
   "source": []
  },
  {
   "cell_type": "code",
   "execution_count": null,
   "id": "d4d4a17a",
   "metadata": {},
   "outputs": [],
   "source": []
  }
 ],
 "metadata": {
  "kernelspec": {
   "display_name": "Python 3 (ipykernel)",
   "language": "python",
   "name": "python3"
  },
  "language_info": {
   "codemirror_mode": {
    "name": "ipython",
    "version": 3
   },
   "file_extension": ".py",
   "mimetype": "text/x-python",
   "name": "python",
   "nbconvert_exporter": "python",
   "pygments_lexer": "ipython3",
   "version": "3.9.7"
  }
 },
 "nbformat": 4,
 "nbformat_minor": 5
}
