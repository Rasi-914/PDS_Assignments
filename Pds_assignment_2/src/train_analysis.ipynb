{
 "cells": [
  {
   "cell_type": "code",
   "execution_count": 1,
   "id": "3599f9a8",
   "metadata": {},
   "outputs": [],
   "source": [
    "import pandas as pd\n",
    "import numpy as np\n",
    "import seaborn as sn\n",
    "import datetime"
   ]
  },
  {
   "cell_type": "code",
   "execution_count": 2,
   "id": "101b1c30",
   "metadata": {},
   "outputs": [],
   "source": [
    "# Reading the csv file\n",
    "data=pd.read_csv('E:\\\\rasi_assignments\\\\Pds_assignment_2\\\\RawData\\\\train.csv')"
   ]
  },
  {
   "cell_type": "code",
   "execution_count": 3,
   "id": "840c16ce",
   "metadata": {},
   "outputs": [
    {
     "data": {
      "text/html": [
       "<div>\n",
       "<style scoped>\n",
       "    .dataframe tbody tr th:only-of-type {\n",
       "        vertical-align: middle;\n",
       "    }\n",
       "\n",
       "    .dataframe tbody tr th {\n",
       "        vertical-align: top;\n",
       "    }\n",
       "\n",
       "    .dataframe thead th {\n",
       "        text-align: right;\n",
       "    }\n",
       "</style>\n",
       "<table border=\"1\" class=\"dataframe\">\n",
       "  <thead>\n",
       "    <tr style=\"text-align: right;\">\n",
       "      <th></th>\n",
       "      <th>Unnamed: 0</th>\n",
       "      <th>Name</th>\n",
       "      <th>Location</th>\n",
       "      <th>Year</th>\n",
       "      <th>Kilometers_Driven</th>\n",
       "      <th>Fuel_Type</th>\n",
       "      <th>Transmission</th>\n",
       "      <th>Owner_Type</th>\n",
       "      <th>Mileage</th>\n",
       "      <th>Engine</th>\n",
       "      <th>Power</th>\n",
       "      <th>Seats</th>\n",
       "      <th>New_Price</th>\n",
       "      <th>Price</th>\n",
       "    </tr>\n",
       "  </thead>\n",
       "  <tbody>\n",
       "    <tr>\n",
       "      <th>0</th>\n",
       "      <td>1</td>\n",
       "      <td>Hyundai Creta 1.6 CRDi SX Option</td>\n",
       "      <td>Pune</td>\n",
       "      <td>2015</td>\n",
       "      <td>41000</td>\n",
       "      <td>Diesel</td>\n",
       "      <td>Manual</td>\n",
       "      <td>First</td>\n",
       "      <td>19.67 kmpl</td>\n",
       "      <td>1582 CC</td>\n",
       "      <td>126.2 bhp</td>\n",
       "      <td>5.0</td>\n",
       "      <td>NaN</td>\n",
       "      <td>12.50</td>\n",
       "    </tr>\n",
       "    <tr>\n",
       "      <th>1</th>\n",
       "      <td>2</td>\n",
       "      <td>Honda Jazz V</td>\n",
       "      <td>Chennai</td>\n",
       "      <td>2011</td>\n",
       "      <td>46000</td>\n",
       "      <td>Petrol</td>\n",
       "      <td>Manual</td>\n",
       "      <td>First</td>\n",
       "      <td>13 km/kg</td>\n",
       "      <td>1199 CC</td>\n",
       "      <td>88.7 bhp</td>\n",
       "      <td>5.0</td>\n",
       "      <td>8.61 Lakh</td>\n",
       "      <td>4.50</td>\n",
       "    </tr>\n",
       "    <tr>\n",
       "      <th>2</th>\n",
       "      <td>3</td>\n",
       "      <td>Maruti Ertiga VDI</td>\n",
       "      <td>Chennai</td>\n",
       "      <td>2012</td>\n",
       "      <td>87000</td>\n",
       "      <td>Diesel</td>\n",
       "      <td>Manual</td>\n",
       "      <td>First</td>\n",
       "      <td>20.77 kmpl</td>\n",
       "      <td>1248 CC</td>\n",
       "      <td>88.76 bhp</td>\n",
       "      <td>7.0</td>\n",
       "      <td>NaN</td>\n",
       "      <td>6.00</td>\n",
       "    </tr>\n",
       "    <tr>\n",
       "      <th>3</th>\n",
       "      <td>4</td>\n",
       "      <td>Audi A4 New 2.0 TDI Multitronic</td>\n",
       "      <td>Coimbatore</td>\n",
       "      <td>2013</td>\n",
       "      <td>40670</td>\n",
       "      <td>Diesel</td>\n",
       "      <td>Automatic</td>\n",
       "      <td>Second</td>\n",
       "      <td>15.2 kmpl</td>\n",
       "      <td>1968 CC</td>\n",
       "      <td>140.8 bhp</td>\n",
       "      <td>5.0</td>\n",
       "      <td>NaN</td>\n",
       "      <td>17.74</td>\n",
       "    </tr>\n",
       "    <tr>\n",
       "      <th>4</th>\n",
       "      <td>6</td>\n",
       "      <td>Nissan Micra Diesel XV</td>\n",
       "      <td>Jaipur</td>\n",
       "      <td>2013</td>\n",
       "      <td>86999</td>\n",
       "      <td>Diesel</td>\n",
       "      <td>Manual</td>\n",
       "      <td>First</td>\n",
       "      <td>23.08 kmpl</td>\n",
       "      <td>1461 CC</td>\n",
       "      <td>63.1 bhp</td>\n",
       "      <td>5.0</td>\n",
       "      <td>NaN</td>\n",
       "      <td>3.50</td>\n",
       "    </tr>\n",
       "  </tbody>\n",
       "</table>\n",
       "</div>"
      ],
      "text/plain": [
       "   Unnamed: 0                              Name    Location  Year  \\\n",
       "0           1  Hyundai Creta 1.6 CRDi SX Option        Pune  2015   \n",
       "1           2                      Honda Jazz V     Chennai  2011   \n",
       "2           3                 Maruti Ertiga VDI     Chennai  2012   \n",
       "3           4   Audi A4 New 2.0 TDI Multitronic  Coimbatore  2013   \n",
       "4           6            Nissan Micra Diesel XV      Jaipur  2013   \n",
       "\n",
       "   Kilometers_Driven Fuel_Type Transmission Owner_Type     Mileage   Engine  \\\n",
       "0              41000    Diesel       Manual      First  19.67 kmpl  1582 CC   \n",
       "1              46000    Petrol       Manual      First    13 km/kg  1199 CC   \n",
       "2              87000    Diesel       Manual      First  20.77 kmpl  1248 CC   \n",
       "3              40670    Diesel    Automatic     Second   15.2 kmpl  1968 CC   \n",
       "4              86999    Diesel       Manual      First  23.08 kmpl  1461 CC   \n",
       "\n",
       "       Power  Seats  New_Price  Price  \n",
       "0  126.2 bhp    5.0        NaN  12.50  \n",
       "1   88.7 bhp    5.0  8.61 Lakh   4.50  \n",
       "2  88.76 bhp    7.0        NaN   6.00  \n",
       "3  140.8 bhp    5.0        NaN  17.74  \n",
       "4   63.1 bhp    5.0        NaN   3.50  "
      ]
     },
     "execution_count": 3,
     "metadata": {},
     "output_type": "execute_result"
    }
   ],
   "source": [
    "data.head()"
   ]
  },
  {
   "cell_type": "markdown",
   "id": "e9de179f",
   "metadata": {},
   "source": [
    "# a)  Look for the missing values in all the columns and either impute them (replace with mean, median, or mode) or drop them. Justify your action for this task.     "
   ]
  },
  {
   "cell_type": "code",
   "execution_count": 4,
   "id": "90eacfde",
   "metadata": {},
   "outputs": [
    {
     "data": {
      "text/plain": [
       "Unnamed: 0              0\n",
       "Name                    0\n",
       "Location                0\n",
       "Year                    0\n",
       "Kilometers_Driven       0\n",
       "Fuel_Type               0\n",
       "Transmission            0\n",
       "Owner_Type              0\n",
       "Mileage                 2\n",
       "Engine                 36\n",
       "Power                  36\n",
       "Seats                  38\n",
       "New_Price            5032\n",
       "Price                   0\n",
       "dtype: int64"
      ]
     },
     "execution_count": 4,
     "metadata": {},
     "output_type": "execute_result"
    }
   ],
   "source": [
    "# data pre-processing\n",
    "# check for the null values in the dataset\n",
    "data.isnull().sum()"
   ]
  },
  {
   "cell_type": "code",
   "execution_count": 5,
   "id": "7bcee986",
   "metadata": {},
   "outputs": [],
   "source": [
    "#!. dropping the missing values\n",
    "df_org=pd.DataFrame(data)"
   ]
  },
  {
   "cell_type": "code",
   "execution_count": 6,
   "id": "dca7c7a9",
   "metadata": {},
   "outputs": [],
   "source": [
    "# for dropping the values of the particular columns\n",
    "df_cleaned=df_org.dropna(subset=['Mileage','Engine','Power','Seats','New_Price'])"
   ]
  },
  {
   "cell_type": "code",
   "execution_count": 7,
   "id": "2ccca5d9",
   "metadata": {},
   "outputs": [],
   "source": [
    "# for resetting the index\n",
    "df_cleaned.reset_index(drop=True,inplace=True)"
   ]
  },
  {
   "cell_type": "code",
   "execution_count": 8,
   "id": "312cf0c6",
   "metadata": {},
   "outputs": [
    {
     "name": "stdout",
     "output_type": "stream",
     "text": [
      "original Dataframe shape: (5847, 14)\n"
     ]
    }
   ],
   "source": [
    "print(\"original Dataframe shape:\",df_org.shape)"
   ]
  },
  {
   "cell_type": "code",
   "execution_count": 9,
   "id": "5c1cb1c8",
   "metadata": {
    "scrolled": true
   },
   "outputs": [
    {
     "name": "stdout",
     "output_type": "stream",
     "text": [
      "Dataframe (814, 14)\n"
     ]
    }
   ],
   "source": [
    "print(\"Dataframe\",df_cleaned.shape)"
   ]
  },
  {
   "cell_type": "code",
   "execution_count": null,
   "id": "3805256c",
   "metadata": {},
   "outputs": [],
   "source": [
    "# After cleaning the data dataframe 814 rows and 14 columns"
   ]
  },
  {
   "cell_type": "markdown",
   "id": "b9b02d46",
   "metadata": {},
   "source": [
    "# b) Remove the units from some of the attributes and only keep the numerical values (for example remove kmpl from “Mileage”, CC from “Engine”, bhp from “Power”, and lakh from “New_price”). (5 points) "
   ]
  },
  {
   "cell_type": "code",
   "execution_count": 10,
   "id": "bde18dfd",
   "metadata": {},
   "outputs": [],
   "source": [
    "df_cleaned.to_csv('E:\\\\rasi_assignments\\\\Pds_assignment_2\\\\cleanedData\\\\cleaned_data.csv',index=False)"
   ]
  },
  {
   "cell_type": "code",
   "execution_count": 12,
   "id": "13706a71",
   "metadata": {},
   "outputs": [
    {
     "data": {
      "text/plain": [
       "Unnamed: 0           0\n",
       "Name                 0\n",
       "Location             0\n",
       "Year                 0\n",
       "Kilometers_Driven    0\n",
       "Fuel_Type            0\n",
       "Transmission         0\n",
       "Owner_Type           0\n",
       "Mileage              0\n",
       "Engine               0\n",
       "Power                0\n",
       "Seats                0\n",
       "New_Price            0\n",
       "Price                0\n",
       "dtype: int64"
      ]
     },
     "execution_count": 12,
     "metadata": {},
     "output_type": "execute_result"
    }
   ],
   "source": [
    "data_clean.isnull().sum()"
   ]
  },
  {
   "cell_type": "code",
   "execution_count": 13,
   "id": "fe7d82b3",
   "metadata": {},
   "outputs": [],
   "source": [
    "df_unit=pd.read_csv('E:\\\\rasi_assignments\\\\Pds_assignment_2\\\\cleanedData\\\\cleaned_data.csv')"
   ]
  },
  {
   "cell_type": "code",
   "execution_count": 14,
   "id": "de3edb9a",
   "metadata": {},
   "outputs": [],
   "source": [
    "df_unit['Mileage']=df_unit['Mileage'].str.replace(r' kmpl| km/kg','',regex=True).astype(float)\n",
    "df_unit['Engine']=df_unit['Engine'].str.replace(' CC','').astype(int)\n",
    "df_unit['Power']=df_unit['Power'].str.replace(' bhp','').astype(float)\n",
    "df_unit['New_Price']=df_unit['New_Price'].str.replace(r' Lakh| Cr','',regex=True).astype(float)"
   ]
  },
  {
   "cell_type": "code",
   "execution_count": 15,
   "id": "5c1328be",
   "metadata": {},
   "outputs": [],
   "source": [
    "data_with_no_units=df_unit.to_csv('E:\\\\rasi_assignments\\\\Pds_assignment_2\\\\cleanedData\\\\data_with_no_units.csv',index=False)\n"
   ]
  },
  {
   "cell_type": "code",
   "execution_count": 16,
   "id": "e6170233",
   "metadata": {},
   "outputs": [],
   "source": [
    "datanounits=pd.read_csv('E:\\\\rasi_assignments\\\\Pds_assignment_2\\\\cleanedData\\\\data_with_no_units.csv')"
   ]
  },
  {
   "cell_type": "code",
   "execution_count": 17,
   "id": "18afad2a",
   "metadata": {},
   "outputs": [
    {
     "data": {
      "text/html": [
       "<div>\n",
       "<style scoped>\n",
       "    .dataframe tbody tr th:only-of-type {\n",
       "        vertical-align: middle;\n",
       "    }\n",
       "\n",
       "    .dataframe tbody tr th {\n",
       "        vertical-align: top;\n",
       "    }\n",
       "\n",
       "    .dataframe thead th {\n",
       "        text-align: right;\n",
       "    }\n",
       "</style>\n",
       "<table border=\"1\" class=\"dataframe\">\n",
       "  <thead>\n",
       "    <tr style=\"text-align: right;\">\n",
       "      <th></th>\n",
       "      <th>Unnamed: 0</th>\n",
       "      <th>Name</th>\n",
       "      <th>Location</th>\n",
       "      <th>Year</th>\n",
       "      <th>Kilometers_Driven</th>\n",
       "      <th>Fuel_Type</th>\n",
       "      <th>Transmission</th>\n",
       "      <th>Owner_Type</th>\n",
       "      <th>Mileage</th>\n",
       "      <th>Engine</th>\n",
       "      <th>Power</th>\n",
       "      <th>Seats</th>\n",
       "      <th>New_Price</th>\n",
       "      <th>Price</th>\n",
       "    </tr>\n",
       "  </thead>\n",
       "  <tbody>\n",
       "    <tr>\n",
       "      <th>0</th>\n",
       "      <td>2</td>\n",
       "      <td>Honda Jazz V</td>\n",
       "      <td>Chennai</td>\n",
       "      <td>2011</td>\n",
       "      <td>46000</td>\n",
       "      <td>Petrol</td>\n",
       "      <td>Manual</td>\n",
       "      <td>First</td>\n",
       "      <td>13.00</td>\n",
       "      <td>1199</td>\n",
       "      <td>88.70</td>\n",
       "      <td>5.0</td>\n",
       "      <td>8.61</td>\n",
       "      <td>4.50</td>\n",
       "    </tr>\n",
       "    <tr>\n",
       "      <th>1</th>\n",
       "      <td>7</td>\n",
       "      <td>Toyota Innova Crysta 2.8 GX AT 8S</td>\n",
       "      <td>Mumbai</td>\n",
       "      <td>2016</td>\n",
       "      <td>36000</td>\n",
       "      <td>Diesel</td>\n",
       "      <td>Automatic</td>\n",
       "      <td>First</td>\n",
       "      <td>11.36</td>\n",
       "      <td>2755</td>\n",
       "      <td>171.50</td>\n",
       "      <td>8.0</td>\n",
       "      <td>21.00</td>\n",
       "      <td>17.50</td>\n",
       "    </tr>\n",
       "    <tr>\n",
       "      <th>2</th>\n",
       "      <td>10</td>\n",
       "      <td>Maruti Ciaz Zeta</td>\n",
       "      <td>Kochi</td>\n",
       "      <td>2018</td>\n",
       "      <td>25692</td>\n",
       "      <td>Petrol</td>\n",
       "      <td>Manual</td>\n",
       "      <td>First</td>\n",
       "      <td>21.56</td>\n",
       "      <td>1462</td>\n",
       "      <td>103.25</td>\n",
       "      <td>5.0</td>\n",
       "      <td>10.65</td>\n",
       "      <td>9.95</td>\n",
       "    </tr>\n",
       "    <tr>\n",
       "      <th>3</th>\n",
       "      <td>15</td>\n",
       "      <td>Mitsubishi Pajero Sport 4X4</td>\n",
       "      <td>Delhi</td>\n",
       "      <td>2014</td>\n",
       "      <td>110000</td>\n",
       "      <td>Diesel</td>\n",
       "      <td>Manual</td>\n",
       "      <td>First</td>\n",
       "      <td>13.50</td>\n",
       "      <td>2477</td>\n",
       "      <td>175.56</td>\n",
       "      <td>7.0</td>\n",
       "      <td>32.01</td>\n",
       "      <td>15.00</td>\n",
       "    </tr>\n",
       "    <tr>\n",
       "      <th>4</th>\n",
       "      <td>20</td>\n",
       "      <td>BMW 3 Series 320d</td>\n",
       "      <td>Kochi</td>\n",
       "      <td>2014</td>\n",
       "      <td>32982</td>\n",
       "      <td>Diesel</td>\n",
       "      <td>Automatic</td>\n",
       "      <td>First</td>\n",
       "      <td>22.69</td>\n",
       "      <td>1995</td>\n",
       "      <td>190.00</td>\n",
       "      <td>5.0</td>\n",
       "      <td>47.87</td>\n",
       "      <td>18.55</td>\n",
       "    </tr>\n",
       "  </tbody>\n",
       "</table>\n",
       "</div>"
      ],
      "text/plain": [
       "   Unnamed: 0                               Name Location  Year  \\\n",
       "0           2                       Honda Jazz V  Chennai  2011   \n",
       "1           7  Toyota Innova Crysta 2.8 GX AT 8S   Mumbai  2016   \n",
       "2          10                   Maruti Ciaz Zeta    Kochi  2018   \n",
       "3          15        Mitsubishi Pajero Sport 4X4    Delhi  2014   \n",
       "4          20                  BMW 3 Series 320d    Kochi  2014   \n",
       "\n",
       "   Kilometers_Driven Fuel_Type Transmission Owner_Type  Mileage  Engine  \\\n",
       "0              46000    Petrol       Manual      First    13.00    1199   \n",
       "1              36000    Diesel    Automatic      First    11.36    2755   \n",
       "2              25692    Petrol       Manual      First    21.56    1462   \n",
       "3             110000    Diesel       Manual      First    13.50    2477   \n",
       "4              32982    Diesel    Automatic      First    22.69    1995   \n",
       "\n",
       "    Power  Seats  New_Price  Price  \n",
       "0   88.70    5.0       8.61   4.50  \n",
       "1  171.50    8.0      21.00  17.50  \n",
       "2  103.25    5.0      10.65   9.95  \n",
       "3  175.56    7.0      32.01  15.00  \n",
       "4  190.00    5.0      47.87  18.55  "
      ]
     },
     "execution_count": 17,
     "metadata": {},
     "output_type": "execute_result"
    }
   ],
   "source": [
    "datanounits.head()"
   ]
  },
  {
   "cell_type": "markdown",
   "id": "128183b5",
   "metadata": {},
   "source": [
    "# C) Change the categorical variables (“Fuel_Type” and “Transmission”) into numerical one hot encoded value.  "
   ]
  },
  {
   "cell_type": "code",
   "execution_count": 18,
   "id": "b578d7e7",
   "metadata": {},
   "outputs": [],
   "source": [
    "df_encode=pd.read_csv('E:\\\\rasi_assignments\\\\Pds_assignment_2\\\\cleanedData\\\\data_with_no_units.csv')"
   ]
  },
  {
   "cell_type": "code",
   "execution_count": 19,
   "id": "8cd7a04e",
   "metadata": {},
   "outputs": [],
   "source": [
    "df_encode=pd.get_dummies(df_encode, columns=['Fuel_Type','Transmission'])"
   ]
  },
  {
   "cell_type": "code",
   "execution_count": 20,
   "id": "c9359cae",
   "metadata": {},
   "outputs": [],
   "source": [
    "data_encodings=df_encode.to_csv('E:\\\\rasi_assignments\\\\Pds_assignment_2\\\\cleanedData\\\\data_with_encodings.csv',index=False)"
   ]
  },
  {
   "cell_type": "code",
   "execution_count": 21,
   "id": "8a50d14a",
   "metadata": {},
   "outputs": [],
   "source": [
    "data_with_encode=pd.read_csv('E:\\\\rasi_assignments\\\\Pds_assignment_2\\\\cleanedData\\\\data_with_encodings.csv')"
   ]
  },
  {
   "cell_type": "code",
   "execution_count": 22,
   "id": "805b4479",
   "metadata": {},
   "outputs": [
    {
     "data": {
      "text/html": [
       "<div>\n",
       "<style scoped>\n",
       "    .dataframe tbody tr th:only-of-type {\n",
       "        vertical-align: middle;\n",
       "    }\n",
       "\n",
       "    .dataframe tbody tr th {\n",
       "        vertical-align: top;\n",
       "    }\n",
       "\n",
       "    .dataframe thead th {\n",
       "        text-align: right;\n",
       "    }\n",
       "</style>\n",
       "<table border=\"1\" class=\"dataframe\">\n",
       "  <thead>\n",
       "    <tr style=\"text-align: right;\">\n",
       "      <th></th>\n",
       "      <th>Unnamed: 0</th>\n",
       "      <th>Name</th>\n",
       "      <th>Location</th>\n",
       "      <th>Year</th>\n",
       "      <th>Kilometers_Driven</th>\n",
       "      <th>Owner_Type</th>\n",
       "      <th>Mileage</th>\n",
       "      <th>Engine</th>\n",
       "      <th>Power</th>\n",
       "      <th>Seats</th>\n",
       "      <th>New_Price</th>\n",
       "      <th>Price</th>\n",
       "      <th>Fuel_Type_Diesel</th>\n",
       "      <th>Fuel_Type_Petrol</th>\n",
       "      <th>Transmission_Automatic</th>\n",
       "      <th>Transmission_Manual</th>\n",
       "    </tr>\n",
       "  </thead>\n",
       "  <tbody>\n",
       "    <tr>\n",
       "      <th>0</th>\n",
       "      <td>2</td>\n",
       "      <td>Honda Jazz V</td>\n",
       "      <td>Chennai</td>\n",
       "      <td>2011</td>\n",
       "      <td>46000</td>\n",
       "      <td>First</td>\n",
       "      <td>13.00</td>\n",
       "      <td>1199</td>\n",
       "      <td>88.70</td>\n",
       "      <td>5.0</td>\n",
       "      <td>8.61</td>\n",
       "      <td>4.50</td>\n",
       "      <td>0</td>\n",
       "      <td>1</td>\n",
       "      <td>0</td>\n",
       "      <td>1</td>\n",
       "    </tr>\n",
       "    <tr>\n",
       "      <th>1</th>\n",
       "      <td>7</td>\n",
       "      <td>Toyota Innova Crysta 2.8 GX AT 8S</td>\n",
       "      <td>Mumbai</td>\n",
       "      <td>2016</td>\n",
       "      <td>36000</td>\n",
       "      <td>First</td>\n",
       "      <td>11.36</td>\n",
       "      <td>2755</td>\n",
       "      <td>171.50</td>\n",
       "      <td>8.0</td>\n",
       "      <td>21.00</td>\n",
       "      <td>17.50</td>\n",
       "      <td>1</td>\n",
       "      <td>0</td>\n",
       "      <td>1</td>\n",
       "      <td>0</td>\n",
       "    </tr>\n",
       "    <tr>\n",
       "      <th>2</th>\n",
       "      <td>10</td>\n",
       "      <td>Maruti Ciaz Zeta</td>\n",
       "      <td>Kochi</td>\n",
       "      <td>2018</td>\n",
       "      <td>25692</td>\n",
       "      <td>First</td>\n",
       "      <td>21.56</td>\n",
       "      <td>1462</td>\n",
       "      <td>103.25</td>\n",
       "      <td>5.0</td>\n",
       "      <td>10.65</td>\n",
       "      <td>9.95</td>\n",
       "      <td>0</td>\n",
       "      <td>1</td>\n",
       "      <td>0</td>\n",
       "      <td>1</td>\n",
       "    </tr>\n",
       "    <tr>\n",
       "      <th>3</th>\n",
       "      <td>15</td>\n",
       "      <td>Mitsubishi Pajero Sport 4X4</td>\n",
       "      <td>Delhi</td>\n",
       "      <td>2014</td>\n",
       "      <td>110000</td>\n",
       "      <td>First</td>\n",
       "      <td>13.50</td>\n",
       "      <td>2477</td>\n",
       "      <td>175.56</td>\n",
       "      <td>7.0</td>\n",
       "      <td>32.01</td>\n",
       "      <td>15.00</td>\n",
       "      <td>1</td>\n",
       "      <td>0</td>\n",
       "      <td>0</td>\n",
       "      <td>1</td>\n",
       "    </tr>\n",
       "    <tr>\n",
       "      <th>4</th>\n",
       "      <td>20</td>\n",
       "      <td>BMW 3 Series 320d</td>\n",
       "      <td>Kochi</td>\n",
       "      <td>2014</td>\n",
       "      <td>32982</td>\n",
       "      <td>First</td>\n",
       "      <td>22.69</td>\n",
       "      <td>1995</td>\n",
       "      <td>190.00</td>\n",
       "      <td>5.0</td>\n",
       "      <td>47.87</td>\n",
       "      <td>18.55</td>\n",
       "      <td>1</td>\n",
       "      <td>0</td>\n",
       "      <td>1</td>\n",
       "      <td>0</td>\n",
       "    </tr>\n",
       "  </tbody>\n",
       "</table>\n",
       "</div>"
      ],
      "text/plain": [
       "   Unnamed: 0                               Name Location  Year  \\\n",
       "0           2                       Honda Jazz V  Chennai  2011   \n",
       "1           7  Toyota Innova Crysta 2.8 GX AT 8S   Mumbai  2016   \n",
       "2          10                   Maruti Ciaz Zeta    Kochi  2018   \n",
       "3          15        Mitsubishi Pajero Sport 4X4    Delhi  2014   \n",
       "4          20                  BMW 3 Series 320d    Kochi  2014   \n",
       "\n",
       "   Kilometers_Driven Owner_Type  Mileage  Engine   Power  Seats  New_Price  \\\n",
       "0              46000      First    13.00    1199   88.70    5.0       8.61   \n",
       "1              36000      First    11.36    2755  171.50    8.0      21.00   \n",
       "2              25692      First    21.56    1462  103.25    5.0      10.65   \n",
       "3             110000      First    13.50    2477  175.56    7.0      32.01   \n",
       "4              32982      First    22.69    1995  190.00    5.0      47.87   \n",
       "\n",
       "   Price  Fuel_Type_Diesel  Fuel_Type_Petrol  Transmission_Automatic  \\\n",
       "0   4.50                 0                 1                       0   \n",
       "1  17.50                 1                 0                       1   \n",
       "2   9.95                 0                 1                       0   \n",
       "3  15.00                 1                 0                       0   \n",
       "4  18.55                 1                 0                       1   \n",
       "\n",
       "   Transmission_Manual  \n",
       "0                    1  \n",
       "1                    0  \n",
       "2                    1  \n",
       "3                    1  \n",
       "4                    0  "
      ]
     },
     "execution_count": 22,
     "metadata": {},
     "output_type": "execute_result"
    }
   ],
   "source": [
    "data_with_encode.head()"
   ]
  },
  {
   "cell_type": "markdown",
   "id": "d419b662",
   "metadata": {},
   "source": [
    "# d) Create one more feature and add this column to the dataset (you can use mutate function in R for this). For example, you can calculate the current age of the car by subtracting “Year” value from the current year.   "
   ]
  },
  {
   "cell_type": "code",
   "execution_count": 23,
   "id": "f913fea8",
   "metadata": {},
   "outputs": [],
   "source": [
    "data_age=pd.read_csv('E:\\\\rasi_assignments\\\\Pds_assignment_2\\\\cleanedData\\\\cleaned_data.csv')"
   ]
  },
  {
   "cell_type": "code",
   "execution_count": 24,
   "id": "000bd6d7",
   "metadata": {},
   "outputs": [],
   "source": [
    "df_age=pd.DataFrame(data_age)"
   ]
  },
  {
   "cell_type": "code",
   "execution_count": 65,
   "id": "deea3d9c",
   "metadata": {},
   "outputs": [],
   "source": [
    "# calcualating the current  year using the date time library\n",
    "current_year=datetime.datetime.now().year"
   ]
  },
  {
   "cell_type": "code",
   "execution_count": 66,
   "id": "faca5851",
   "metadata": {},
   "outputs": [],
   "source": [
    "df_age['Car_age']=current_year-df_age['Year']"
   ]
  },
  {
   "cell_type": "code",
   "execution_count": 67,
   "id": "99a649f9",
   "metadata": {},
   "outputs": [],
   "source": [
    "#storing the data into csv \n",
    "data_current_age=df_age.to_csv('E:\\\\rasi_assignments\\\\Pds_assignment_2\\\\cleanedData\\\\data_with_currentage.csv',index=False)"
   ]
  },
  {
   "cell_type": "code",
   "execution_count": 68,
   "id": "fa929f6b",
   "metadata": {},
   "outputs": [],
   "source": [
    "data_current_age=pd.read_csv('E:\\\\rasi_assignments\\\\Pds_assignment_2\\\\cleanedData\\\\data_with_currentage.csv')"
   ]
  },
  {
   "cell_type": "code",
   "execution_count": 69,
   "id": "cc887511",
   "metadata": {},
   "outputs": [
    {
     "data": {
      "text/html": [
       "<div>\n",
       "<style scoped>\n",
       "    .dataframe tbody tr th:only-of-type {\n",
       "        vertical-align: middle;\n",
       "    }\n",
       "\n",
       "    .dataframe tbody tr th {\n",
       "        vertical-align: top;\n",
       "    }\n",
       "\n",
       "    .dataframe thead th {\n",
       "        text-align: right;\n",
       "    }\n",
       "</style>\n",
       "<table border=\"1\" class=\"dataframe\">\n",
       "  <thead>\n",
       "    <tr style=\"text-align: right;\">\n",
       "      <th></th>\n",
       "      <th>Unnamed: 0</th>\n",
       "      <th>Name</th>\n",
       "      <th>Location</th>\n",
       "      <th>Year</th>\n",
       "      <th>Kilometers_Driven</th>\n",
       "      <th>Fuel_Type</th>\n",
       "      <th>Transmission</th>\n",
       "      <th>Owner_Type</th>\n",
       "      <th>Mileage</th>\n",
       "      <th>Engine</th>\n",
       "      <th>Power</th>\n",
       "      <th>Seats</th>\n",
       "      <th>New_Price</th>\n",
       "      <th>Price</th>\n",
       "      <th>Car_age</th>\n",
       "    </tr>\n",
       "  </thead>\n",
       "  <tbody>\n",
       "    <tr>\n",
       "      <th>0</th>\n",
       "      <td>2</td>\n",
       "      <td>Honda Jazz V</td>\n",
       "      <td>Chennai</td>\n",
       "      <td>2011</td>\n",
       "      <td>46000</td>\n",
       "      <td>Petrol</td>\n",
       "      <td>Manual</td>\n",
       "      <td>First</td>\n",
       "      <td>13 km/kg</td>\n",
       "      <td>1199 CC</td>\n",
       "      <td>88.7 bhp</td>\n",
       "      <td>5.0</td>\n",
       "      <td>8.61 Lakh</td>\n",
       "      <td>4.50</td>\n",
       "      <td>12</td>\n",
       "    </tr>\n",
       "    <tr>\n",
       "      <th>1</th>\n",
       "      <td>7</td>\n",
       "      <td>Toyota Innova Crysta 2.8 GX AT 8S</td>\n",
       "      <td>Mumbai</td>\n",
       "      <td>2016</td>\n",
       "      <td>36000</td>\n",
       "      <td>Diesel</td>\n",
       "      <td>Automatic</td>\n",
       "      <td>First</td>\n",
       "      <td>11.36 kmpl</td>\n",
       "      <td>2755 CC</td>\n",
       "      <td>171.5 bhp</td>\n",
       "      <td>8.0</td>\n",
       "      <td>21 Lakh</td>\n",
       "      <td>17.50</td>\n",
       "      <td>7</td>\n",
       "    </tr>\n",
       "    <tr>\n",
       "      <th>2</th>\n",
       "      <td>10</td>\n",
       "      <td>Maruti Ciaz Zeta</td>\n",
       "      <td>Kochi</td>\n",
       "      <td>2018</td>\n",
       "      <td>25692</td>\n",
       "      <td>Petrol</td>\n",
       "      <td>Manual</td>\n",
       "      <td>First</td>\n",
       "      <td>21.56 kmpl</td>\n",
       "      <td>1462 CC</td>\n",
       "      <td>103.25 bhp</td>\n",
       "      <td>5.0</td>\n",
       "      <td>10.65 Lakh</td>\n",
       "      <td>9.95</td>\n",
       "      <td>5</td>\n",
       "    </tr>\n",
       "    <tr>\n",
       "      <th>3</th>\n",
       "      <td>15</td>\n",
       "      <td>Mitsubishi Pajero Sport 4X4</td>\n",
       "      <td>Delhi</td>\n",
       "      <td>2014</td>\n",
       "      <td>110000</td>\n",
       "      <td>Diesel</td>\n",
       "      <td>Manual</td>\n",
       "      <td>First</td>\n",
       "      <td>13.5 kmpl</td>\n",
       "      <td>2477 CC</td>\n",
       "      <td>175.56 bhp</td>\n",
       "      <td>7.0</td>\n",
       "      <td>32.01 Lakh</td>\n",
       "      <td>15.00</td>\n",
       "      <td>9</td>\n",
       "    </tr>\n",
       "    <tr>\n",
       "      <th>4</th>\n",
       "      <td>20</td>\n",
       "      <td>BMW 3 Series 320d</td>\n",
       "      <td>Kochi</td>\n",
       "      <td>2014</td>\n",
       "      <td>32982</td>\n",
       "      <td>Diesel</td>\n",
       "      <td>Automatic</td>\n",
       "      <td>First</td>\n",
       "      <td>22.69 kmpl</td>\n",
       "      <td>1995 CC</td>\n",
       "      <td>190 bhp</td>\n",
       "      <td>5.0</td>\n",
       "      <td>47.87 Lakh</td>\n",
       "      <td>18.55</td>\n",
       "      <td>9</td>\n",
       "    </tr>\n",
       "  </tbody>\n",
       "</table>\n",
       "</div>"
      ],
      "text/plain": [
       "   Unnamed: 0                               Name Location  Year  \\\n",
       "0           2                       Honda Jazz V  Chennai  2011   \n",
       "1           7  Toyota Innova Crysta 2.8 GX AT 8S   Mumbai  2016   \n",
       "2          10                   Maruti Ciaz Zeta    Kochi  2018   \n",
       "3          15        Mitsubishi Pajero Sport 4X4    Delhi  2014   \n",
       "4          20                  BMW 3 Series 320d    Kochi  2014   \n",
       "\n",
       "   Kilometers_Driven Fuel_Type Transmission Owner_Type     Mileage   Engine  \\\n",
       "0              46000    Petrol       Manual      First    13 km/kg  1199 CC   \n",
       "1              36000    Diesel    Automatic      First  11.36 kmpl  2755 CC   \n",
       "2              25692    Petrol       Manual      First  21.56 kmpl  1462 CC   \n",
       "3             110000    Diesel       Manual      First   13.5 kmpl  2477 CC   \n",
       "4              32982    Diesel    Automatic      First  22.69 kmpl  1995 CC   \n",
       "\n",
       "        Power  Seats   New_Price  Price  Car_age  \n",
       "0    88.7 bhp    5.0   8.61 Lakh   4.50       12  \n",
       "1   171.5 bhp    8.0     21 Lakh  17.50        7  \n",
       "2  103.25 bhp    5.0  10.65 Lakh   9.95        5  \n",
       "3  175.56 bhp    7.0  32.01 Lakh  15.00        9  \n",
       "4     190 bhp    5.0  47.87 Lakh  18.55        9  "
      ]
     },
     "execution_count": 69,
     "metadata": {},
     "output_type": "execute_result"
    }
   ],
   "source": [
    "data_current_age.head()"
   ]
  },
  {
   "cell_type": "code",
   "execution_count": null,
   "id": "7b0a5fba",
   "metadata": {},
   "outputs": [],
   "source": []
  }
 ],
 "metadata": {
  "kernelspec": {
   "display_name": "Python 3",
   "language": "python",
   "name": "python3"
  },
  "language_info": {
   "codemirror_mode": {
    "name": "ipython",
    "version": 3
   },
   "file_extension": ".py",
   "mimetype": "text/x-python",
   "name": "python",
   "nbconvert_exporter": "python",
   "pygments_lexer": "ipython3",
   "version": "3.8.8"
  }
 },
 "nbformat": 4,
 "nbformat_minor": 5
}
